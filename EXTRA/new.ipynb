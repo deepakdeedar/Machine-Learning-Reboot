{
 "cells": [
  {
   "cell_type": "code",
   "execution_count": 1,
   "metadata": {},
   "outputs": [],
   "source": [
    "def factorial(integer):\n",
    "    \"\"\" Returns factorial of the given integer\"\"\"\n",
    "    n = int(integer)\n",
    "    if n<=1:\n",
    "        return 1\n",
    "    fact=1\n",
    "    for i in range(1, n+1):\n",
    "        fact*=i\n",
    "    return fact"
   ]
  },
  {
   "cell_type": "code",
   "execution_count": 2,
   "metadata": {},
   "outputs": [
    {
     "name": "stdout",
     "output_type": "stream",
     "text": [
      "Running on local URL:  http://127.0.0.1:7860/\n",
      "Running on public URL: https://30609.gradio.app\n",
      "\n",
      "This share link expires in 72 hours. For free permanent hosting, check out Spaces (https://huggingface.co/spaces)\n"
     ]
    },
    {
     "data": {
      "text/html": [
       "\n",
       "        <iframe\n",
       "            width=\"900\"\n",
       "            height=\"500\"\n",
       "            src=\"https://30609.gradio.app\"\n",
       "            frameborder=\"0\"\n",
       "            allowfullscreen\n",
       "            \n",
       "        ></iframe>\n",
       "        "
      ],
      "text/plain": [
       "<IPython.lib.display.IFrame at 0x14e697e22b0>"
      ]
     },
     "metadata": {},
     "output_type": "display_data"
    },
    {
     "data": {
      "text/plain": [
       "(<fastapi.applications.FastAPI at 0x14e64c9f0d0>,\n",
       " 'http://127.0.0.1:7860/',\n",
       " 'https://30609.gradio.app')"
      ]
     },
     "execution_count": 2,
     "metadata": {},
     "output_type": "execute_result"
    }
   ],
   "source": [
    "import gradio\n",
    "gradio.Interface(factorial, inputs=\"text\", outputs=\"text\").launch(share=True)"
   ]
  },
  {
   "cell_type": "code",
   "execution_count": null,
   "metadata": {},
   "outputs": [],
   "source": [
    "import gradio as gr\n",
    "import tensorflow as tf\n",
    "import numpy as np\n",
    "import requests\n",
    " \n",
    "# loading the model\n",
    "inception_net = tf.keras.applications.InceptionV3()\n",
    " \n",
    "# Download human-readable labels.\n",
    "response = requests.get(\"https://git.io/JJkYN\")\n",
    "labels = response.text.split(\"\\n\")\n",
    " \n",
    "def classify_image(image):\n",
    "    \"\"\" Returns a dictionary with key as label and values\n",
    "    as the predicted confidence for that label\"\"\"\n",
    "    # reshaping the image\n",
    "    image = image.reshape((-1, 299, 299, 3))\n",
    "    # preprocessing the image for inception_v3\n",
    "    image = tf.keras.applications.inception_v3.preprocess_input(image)\n",
    "    # predicting the output\n",
    "    prediction = inception_net.predict(image).flatten()\n",
    "    return {labels[i]: float(prediction[i]) for i in range(1000)}\n",
    " \n",
    "# initializing the input component\n",
    "image = gr.inputs.Image(shape = (299, 299, 3))\n",
    "# initializing the output component\n",
    "label = gr.outputs.Label(num_top_classes = 3)\n",
    " \n",
    "# launching the interface\n",
    "gr.Interface(fn = classify_image, inputs = image,\n",
    "             outputs = label, capture_session = True).launch()"
   ]
  },
  {
   "cell_type": "code",
   "execution_count": 6,
   "metadata": {},
   "outputs": [
    {
     "data": {
      "text/plain": [
       "block_num\n",
       "1                                         [C), GitHub]\n",
       "2                               [Repo, Card, Template]\n",
       "3    [We, recommend, leaving, a, 40pt, border, arou...\n",
       "4                                                  [ ]\n",
       "Name: text, dtype: object"
      ]
     },
     "execution_count": 6,
     "metadata": {},
     "output_type": "execute_result"
    }
   ],
   "source": [
    "import pytesseract\n",
    "import cv2\n",
    "pytesseract.pytesseract.tesseract_cmd = r'C:\\Program Files\\Tesseract-OCR\\tesseract.exe'\n",
    "\n",
    "image = cv2.imread(\"./repository-open-graph-template.png\")\n",
    "\n",
    "text = pytesseract.image_to_data(image, output_type='data.frame')\n",
    "\n",
    "text = text[text.conf != -1]\n",
    "lines = text.groupby('block_num')['text'].apply(list)\n",
    "\n",
    "conf = text.groupby(['block_num'])['conf'].mean()\n",
    "\n"
   ]
  },
  {
   "cell_type": "code",
   "execution_count": null,
   "metadata": {},
   "outputs": [],
   "source": [
    "import gradio as gr\n",
    "import pandas as pd\n",
    "import pytesseract\n",
    "pytesseract.pytesseract.tesseract_cmd = r'C:\\Program Files\\Tesseract-OCR\\tesseract.exe'\n",
    "\n",
    "def ocr(image):\n",
    "    text = pytesseract.image_to_data(image, output_type='data.frame')\n",
    "\n",
    "    text = text[text.conf != -1]\n",
    "    lines = text.groupby(['page_num', 'block_num', 'par_num', 'line_num'])['text'] \\\n",
    "                                     .apply(lambda x: ' '.join(list(x))).tolist()\n",
    "    confs = text.groupby(['page_num', 'block_num', 'par_num', 'line_num'])['conf'].mean().tolist()\n",
    "        \n",
    "    line_conf = []\n",
    "        \n",
    "    for i in range(len(lines)):\n",
    "        if lines[i].strip():\n",
    "            line_conf.append((lines[i], round(confs[i],3)))\n",
    "    \n",
    "    labels = [line_conf[i][0] for i in range(len(line_conf))]\n",
    "    confs = [line_conf[i][1] for i in range(len(line_conf))]\n",
    "\n",
    "    data = {'label': labels, 'confidence': confs}\n",
    "\n",
    "    df = pd.DataFrame(data)\n",
    "\n",
    "    return {labels[i]: float(confs[i]/100) for i in range(len(labels))}\n",
    "\n",
    "image = gr.inputs.Image()\n",
    "label = gr.outputs.Label()\n",
    "\n",
    "gr.Interface(fn = ocr, inputs = image,outputs = label).launch(share=True)"
   ]
  },
  {
   "cell_type": "code",
   "execution_count": null,
   "metadata": {},
   "outputs": [],
   "source": []
  }
 ],
 "metadata": {
  "interpreter": {
   "hash": "8df3d8cd5a2145a2ba40083329a8f9522a4a5d57887f1f19cbafa9707d1ccc15"
  },
  "kernelspec": {
   "display_name": "Python 3.9.7 64-bit ('base': conda)",
   "language": "python",
   "name": "python3"
  },
  "language_info": {
   "codemirror_mode": {
    "name": "ipython",
    "version": 3
   },
   "file_extension": ".py",
   "mimetype": "text/x-python",
   "name": "python",
   "nbconvert_exporter": "python",
   "pygments_lexer": "ipython3",
   "version": "3.9.7"
  },
  "orig_nbformat": 4
 },
 "nbformat": 4,
 "nbformat_minor": 2
}
